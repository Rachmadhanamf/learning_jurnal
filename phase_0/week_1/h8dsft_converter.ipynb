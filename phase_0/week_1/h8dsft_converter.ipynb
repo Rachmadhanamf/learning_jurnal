{
 "cells": [
  {
   "cell_type": "markdown",
   "metadata": {},
   "source": [
    "## Mengkonversi suhu dari kelvin ke celcius, dan celcius ke kelvin."
   ]
  },
  {
   "cell_type": "code",
   "execution_count": 4,
   "metadata": {},
   "outputs": [
    {
     "data": {
      "text/plain": [
       "(27.0, 300.15)"
      ]
     },
     "execution_count": 4,
     "metadata": {},
     "output_type": "execute_result"
    }
   ],
   "source": [
    "def convert(kelvin,celcius):        #pemberian nama parameter dalam fuction\n",
    "    cel = kelvin - 273.15           #mengisi function dengan rumus perubahan suhu kelvin ke celcius\n",
    "    kel = celcius + 273.15          #mengisi function dengan rumus perubahan suhu celcius ke kelvin\n",
    "    return(cel, kel)                #memasukan argumen agar nilai input dapat dikonversi\n",
    "convert(300.15,27)                  #memanggil function sekaligus memasukkan input pada parameter"
   ]
  },
  {
   "cell_type": "markdown",
   "metadata": {},
   "source": [
    "## Mengkonversi suhu ke fahrenheit dari celcius atau kelvin."
   ]
  },
  {
   "cell_type": "code",
   "execution_count": 5,
   "metadata": {},
   "outputs": [
    {
     "name": "stdout",
     "output_type": "stream",
     "text": [
      "Konversi suhu dari Celcius ke Fahrenheit: 68.0 F\n",
      "Konversi suhu dari Kelvin ke Fahrenheit: 80.6 F\n"
     ]
    }
   ],
   "source": [
    "def mengubah(Celcius):              #pemberian nama parameter dalam fuction\n",
    "    fah = (9/5*Celcius) + 32        #mengisi function dengan rumus perubahan suhu celcius ke fahrenheit\n",
    "    return(fah)                     #memasukan argumen agar nilai input dapat dikonversi\n",
    "\n",
    "def Mengubah(Kelvin):                #pemberian nama parameter dalam fuction\n",
    "    fah1 = 1.8*(Kelvin-273)+32       #mengisi function dengan rumus perubahan suhu celcius ke fahrenheit\n",
    "    return(fah1)                     #memasukan argumen agar nilai input dapat dikonversi\n",
    "\n",
    "print(f'Konversi suhu dari Celcius ke Fahrenheit: {mengubah(20)} F')    #mencetak hasil konversi\n",
    "print(f'Konversi suhu dari Kelvin ke Fahrenheit: {Mengubah(300)} F')    #mencetak hasil konversi"
   ]
  },
  {
   "cell_type": "markdown",
   "metadata": {},
   "source": [
    "\n",
    "## Mengkonversi suhu dari fahrenheit ke celcius atau kelvin."
   ]
  },
  {
   "cell_type": "code",
   "execution_count": 6,
   "metadata": {},
   "outputs": [
    {
     "name": "stdout",
     "output_type": "stream",
     "text": [
      "Merubah fahrenheit ke celcius: 32.22222222222222 C \n",
      "Merubah fahrenheit ke kelvin: 305.3722222222222 K\n"
     ]
    }
   ],
   "source": [
    "def Merubah(fah_to_cel):                #pemberian nama parameter dalam fuction\n",
    "    Cel = (fah_to_cel-32)*(5/9)         #mengisi function dengan rumus perubahan suhu fahrenheit ke celcius\n",
    "    Kel = Cel + 273.15                  #mengisi function dengan rumus perubahan suhu fahrenheit ke kelvin dengan memanfaatkan rumus fahrenheit ke celcius\n",
    "    return(Cel) #memasukan argumen agar nilai input dapat dikonversi\n",
    "\n",
    "def merubah(fah_to_kel):                #pemberian nama parameter dalam fuction\n",
    "    Cel = (fah_to_kel-32)*(5/9)         #mengisi function dengan rumus perubahan suhu fahrenheit ke celcius\n",
    "    Kel = Cel + 273.15                  #mengisi function dengan rumus perubahan suhu fahrenheit ke kelvin dengan memanfaatkan rumus fahrenheit ke celcius\n",
    "    return(Kel)                         #memasukan argumen agar nilai input dapat dikonversi\n",
    "\n",
    "print(f'Merubah fahrenheit ke celcius: {Merubah(90)} C \\nMerubah fahrenheit ke kelvin: {merubah(90)} K')        #mencetak hasil konversi"
   ]
  }
 ],
 "metadata": {
  "interpreter": {
   "hash": "1d1e027dac9abb742fea5654c86078e82497180ec8a43fc802f73488ad859795"
  },
  "kernelspec": {
   "display_name": "Python 3.9.12 ('base')",
   "language": "python",
   "name": "python3"
  },
  "language_info": {
   "codemirror_mode": {
    "name": "ipython",
    "version": 3
   },
   "file_extension": ".py",
   "mimetype": "text/x-python",
   "name": "python",
   "nbconvert_exporter": "python",
   "pygments_lexer": "ipython3",
   "version": "3.9.12"
  },
  "orig_nbformat": 4
 },
 "nbformat": 4,
 "nbformat_minor": 2
}
